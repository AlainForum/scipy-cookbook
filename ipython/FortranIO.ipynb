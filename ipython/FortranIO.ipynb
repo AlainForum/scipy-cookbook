{
 "metadata": {
  "signature": "sha256:a915964a56fadb1a14820eea93bbab3d8f15d0a6b29f5af10c377fb2c0d6bb1a"
 },
 "nbformat": 3,
 "nbformat_minor": 0,
 "worksheets": [
  {
   "cells": [
    {
     "cell_type": "markdown",
     "metadata": {},
     "source": [
      "Fortran I/O Formats\n",
      "===================\n",
      "\n",
      "> **NOTE**: you may want to use [scipy.io.FortranFile](http://docs.scipy.org/doc/scipy/reference/generated/scipy.io.FortranFile.html) instead.\n",
      "\n",
      "Files written by Fortran programs can be written using one of two\n",
      "formats: formatted or unformatted. Formatted files are written in\n",
      "human-readable formats and it should be possible to load them using\n",
      "numpy.fromfile. Unformatted files are written using a binary format that\n",
      "is unspecified by the Fortran standard. In practice, most\n",
      "compilers/runtimes use a record-based format with an integer header\n",
      "consisting of the length of the record in bytes, then the record itself\n",
      "followed by an integer footer with the length of the preceeding in\n",
      "bytes.\n",
      "\n",
      "Given that the precision and endian-ness of the headers and the data are\n",
      "unspecified, there are a large number of possible combinations that may\n",
      "be seen in the wild. The [FortranFile](FortranIO_FortranFile.html)\n",
      "class can deal with a great many of these.\n",
      "\n",
      "The following is an example of how to read a particular unformatted\n",
      "output file. Note the presence of the 'i4' elements of the dtype\n",
      "representing the header and the footer.\n",
      "\n",
      "Reading FORTRAN \"unformatted IO\" files\n",
      "--------------------------------------\n",
      "\n",
      "Lots of scientific code is written in FORTRAN. One of the most\n",
      "convenient file formats to create in FORTRAN is the so-called\n",
      "\"[unformatted binary\n",
      "file](http://local.wasp.uwa.edu.au/~pbourke/dataformats/fortran/)\".\n",
      "These files have all the disadvantages of raw binary IO - no metadata,\n",
      "data depends on host endianness, floating-point representation, and\n",
      "possibly word size - but are not simply raw binary. They are organized\n",
      "into \"records\", which are padded with size information. Nevertheless,\n",
      "one does encounter such files from time to time. No prewritten code\n",
      "appears to be available to read them in numpy/scipy, but it can be done\n",
      "with relative ease using numpy's record arrays:"
     ]
    },
    {
     "cell_type": "code",
     "collapsed": false,
     "input": [
      ">>> A = N.fromfile(\"/tmp/tmp_i7j_a/resid2.tmp\",\n",
      "...   N.dtype([('pad1','i4'),\n",
      "...    ('TOA','f8'),\n",
      "...    ('resid_p','f8'),\n",
      "...    ('resid_s','f8'),\n",
      "...    ('orb_p','f8'),\n",
      "...    ('f','f8'),\n",
      "...    ('wt','f8'),\n",
      "...    ('sig','f8'),\n",
      "...    ('preres_s','f8'),\n",
      "...    ('pad3','i8'),\n",
      "...    ('pad2','i4')]))"
     ],
     "language": "python",
     "metadata": {},
     "outputs": []
    },
    {
     "cell_type": "markdown",
     "metadata": {},
     "source": [
      "This example is designed to read [http://www.atnf.csiro.au/research/pulsar/tempo/ref_man_sections/output.txt a file] output \n",
      "by [http://www.atnf.csiro.au/research/pulsar/tempo/ TEMPO].\n",
      "Most of the fields, \"TOA\" up to \"preres_s\", are fields that are present and of interest in the file. The field \"pad3\" \n",
      "is either an undocumented addition to the file format or some kind of padding (it is always zero in my test file). The \n",
      "FORTRAN unformatted I/O adds the fields \"pad1\"  and \"pad2\". Each should contain the length, in bytes, of each record (so the \n",
      "presence of the extra \"pad3\" field could be deduced).   This code ignores t"
     ]
    }
   ],
   "metadata": {}
  }
 ]
}