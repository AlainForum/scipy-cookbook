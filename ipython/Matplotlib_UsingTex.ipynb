{
 "metadata": {
  "signature": "sha256:d9171442f1b476237c2b53c1cd49565c11d90015a435576f6ad8826bb2635861"
 },
 "nbformat": 3,
 "nbformat_minor": 0,
 "worksheets": [
  {
   "cells": [
    {
     "cell_type": "markdown",
     "metadata": {},
     "source": [
      "Matplotlib: using tex\n",
      "======================================================================\n",
      "\n",
      "Matplotlib can use LaTeX to handle the text layout in your figures. This\n",
      "option (which is still somewhat experimental) can be activated by\n",
      "setting text.usetex : true in your rc settings. Text handling with\n",
      "matplotlib's LaTeX support is slower than standard text handling, but is\n",
      "more flexible, and produces publication-quality plots. The results are\n",
      "striking, especially when you take care to use the same fonts in your\n",
      "figures as in the main document.\n",
      "\n",
      "Matplotlib's LaTeX support is still under development, although at least\n",
      "two individuals have relied upon it to generate the figures for their\n",
      "doctoral dissertations. Many improvements have been made beginning with\n",
      "matplotlib-0.87, please update matplotlib if you have an earlier\n",
      "version. This option requires a working LaTeX installation,\n",
      "[dvipng](http://sourceforge.net/projects/dvipng) (which may be included\n",
      "with your TeX installation), and ghostscript ([AFPL,\n",
      "GPL](http://www.cs.wisc.edu/~ghost/), or\n",
      "[ESP](http://www.cups.org/espgs/index.php) ghostscript should all work,\n",
      "but GPL ghostscript-8.60 or later is recommended). The executables for\n",
      "these external dependencies must be located on your PATH.\n",
      "\n",
      "There are a couple of options to mention, which can be changed using rc\n",
      "settings, either using a matplotlibrc file, or the rcParams dict in your\n",
      "program. Here is an example matplotlibrc file:"
     ]
    },
    {
     "cell_type": "code",
     "collapsed": false,
     "input": [
      "font.family        : serif\n",
      "font.serif         : Times, Palatino, New Century Schoolbook, Bookman, Computer Modern Roman\n",
      "font.sans-serif    : Helvetica, Avant Garde, Computer Modern Sans serif\n",
      "font.cursive       : Zapf Chancery\n",
      "font.monospace     : Courier, Computer Modern Typewriter\n",
      "\n",
      "text.usetex        : true"
     ],
     "language": "python",
     "metadata": {},
     "outputs": []
    },
    {
     "cell_type": "markdown",
     "metadata": {},
     "source": [
      "The first valid font in each family is the one that will be loaded. If\n",
      "the fonts are not specified, the Computer Modern fonts are used by\n",
      "default. All of the other fonts are Adobe fonts. Times and Palatino each\n",
      "have their own accompanying math fonts, while the other Adobe serif\n",
      "fonts make use of the Computer Modern math fonts. See\n",
      "[psnfss2e.pdf](http://www.ctan.org/tex-archive/macros/latex/required/psnfss/psnfss2e.pdf)\n",
      "for more details.\n",
      "\n",
      "To use tex and select e.g. Helvetica as the default font, without\n",
      "edititing matplotlibrc use:"
     ]
    },
    {
     "cell_type": "code",
     "collapsed": false,
     "input": [
      "#!python\n",
      "from matplotlib import rc\n",
      "rc('font',**{'family':'sans-serif','sans-serif':['Helvetica']})\n",
      "## for Palatino and other serif fonts use:\n",
      "#rc('font',**{'family':'serif','serif':['Palatino']})\n",
      "rc('text', usetex=True)"
     ],
     "language": "python",
     "metadata": {},
     "outputs": []
    },
    {
     "cell_type": "markdown",
     "metadata": {},
     "source": [
      "**N.B.** You need to do this *before* you import \\`matplotlib.pylab\\`.\n",
      "\n",
      "Here is the standard example, tex\\_demo.py:"
     ]
    },
    {
     "cell_type": "code",
     "collapsed": false,
     "input": [
      "from matplotlib import rc\n",
      "from matplotlib.numerix import arange, cos, pi\n",
      "from pylab import figure, axes, plot, xlabel, ylabel, title, grid, savefig, show\n",
      "\n",
      "rc('text', usetex=True)\n",
      "figure(1)\n",
      "ax = axes([0.1, 0.1, 0.8, 0.7])\n",
      "t = arange(0.0, 1.0+0.01, 0.01)\n",
      "s = cos(2*2*pi*t)+2\n",
      "plot(t, s)\n",
      "\n",
      "xlabel(r'\\textbf{time (s)}')\n",
      "ylabel(r'\\textit{voltage (mV)}',fontsize=16)\n",
      "title(r\"\\TeX\\ is Number $\\displaystyle\\sum_{n=1}^\\infty\\frac{-e^{i\\pi}}{2^n}$!\", fontsize=16, color='r')\n",
      "grid(True)\n",
      "savefig('tex_demo')\n",
      "\n",
      "show()"
     ],
     "language": "python",
     "metadata": {},
     "outputs": []
    },
    {
     "cell_type": "markdown",
     "metadata": {},
     "source": [
      "![](files/attachments/Matplotlib_UsingTex/tex_demo.png)\n",
      "\n",
      "Note that when TeX/LaTeX support is enabled, you can mix text and math modes. Display math mode (\\$\\$ e=mc^2 \\$\\$) is  not supported, but adding the command \\displaystyle, as in tex_demo.py, will produce the same results.\n",
      "\n",
      "In order to produce encapsulated postscript files that can be embedded in a new LaTeX document, the default behavior of matplotlib is to distill the output, which removes some postscript operators used by LaTeX that are illegal in an eps file.  This step produces fonts which may be unacceptable to some users. One workaround is to to set ps.distiller.res to a higher value (perhaps 6000) in your rc settings. A better workaround, which requires [http://www.foolabs.com/xpdf/download.html xpdf] or [http://poppler.freedesktop.org/ poppler] (the new backend to xpdf) can be activated by changing the rc ps.usedistiller setting to xpdf. The xpdf alternative produces postscript with text that can be edited in Adobe Illustrator, or searched for once converted to pdf.\n",
      "\n",
      "\n",
      "## Possible Hangups\n",
      "\n",
      "  * On Windows, the PATH environment variable may need to be modified to find the latex, dvipng and ghostscript executables. This is done by going to the control panel, selecting the \"system\" icon, selecting the \"advanced\" tab, and clicking the \"environment variables\" button (and people think Linux is complicated. Sheesh.) Select the PATH variable, and add the appropriate directories.\n",
      "\n",
      "  * Using MiKTeX with Computer Modern fonts, if you get odd -Agg and PNG results, go to MiKTeX/Options and update your format files\n",
      "\n",
      "  * The fonts look terrible on screen. You are probably running Mac OS, and there is some funny business with dvipng on the mac. Set text.dvipnghack : True in your matplotlibrc file.\n",
      "\n",
      "  * On Ubuntu and Gentoo, the base texlive install does not ship with the type1cm package. You may need to install some of the extra packages to get all the goodies that come bundled with other latex distributions.\n",
      "\n",
      "  * Some progress has been made so Matplotlib uses the dvi files directly for text layout. This allows latex to be used for text layout with the pdf and svg backends, as well as the *Agg and PS backends. In the future, a latex installation may be the only external dependency. \n",
      "\n",
      "## In the event that things dont work\n",
      "\n",
      "  * Try `rm -r ~/.matplotlib/*cache`\n",
      "\n",
      "  * Make sure LaTeX, dvipng and ghostscript are each working and on your PATH.\n",
      "\n",
      "  * Run your script with verbose mode enabled: python example.py --verbose-helpful (or --verbose-debug-annoying) and inspect the output. Most likely there is a problem reported there. If you need help, post a short example that reproduces the behavior, explicitly noting any changes to your rc settings, along with what version of matplotlib you have installed, your os, and the --verbose-* output.\n"
     ]
    }
   ],
   "metadata": {}
  }
 ]
}