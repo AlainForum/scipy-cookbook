{
 "metadata": {
  "signature": "sha256:5e686aa74e4c00e19b4656183f5b4103f086c792853881e0f53f90a4d5368abe"
 },
 "nbformat": 3,
 "nbformat_minor": 0,
 "worksheets": [
  {
   "cells": [
    {
     "cell_type": "markdown",
     "metadata": {},
     "source": [
      "Python Imaging Library\n",
      "----------------------\n",
      "\n",
      "See\u00a0also\u00a0[LoadImage](LoadImage)\u00a0to\u00a0load\u00a0a\u00a0PNG\u00a0image\n",
      "\n",
      "Apply this patch to make PIL Image objects both export and consume the\n",
      "array interface (from Travis Oliphant):"
     ]
    },
    {
     "cell_type": "code",
     "collapsed": false,
     "input": [
      ">>> import Image\n",
      ">>> im=Image.open('foo1.png')\n",
      ">>> a=numpy.array(p)\n",
      "# do something with a ...\n",
      ">>> im = Image.fromarray(a)\n",
      ">>> im.save( 'foo2.png' )"
     ],
     "language": "python",
     "metadata": {},
     "outputs": []
    }
   ],
   "metadata": {}
  }
 ]
}