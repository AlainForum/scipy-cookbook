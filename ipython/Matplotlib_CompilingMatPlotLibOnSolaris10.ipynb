{
 "metadata": {
  "signature": "sha256:685674660d76604f718c44650439be3d4e74d0fa57a1cf606c8c4a492aff1e77"
 },
 "nbformat": 3,
 "nbformat_minor": 0,
 "worksheets": [
  {
   "cells": [
    {
     "cell_type": "markdown",
     "metadata": {},
     "source": [
      "Matplotlib: compiling matplotlib on solaris10\n",
      "======================================================================\n",
      "\n",
      "[how to install\n",
      "sunstudio](http://blogs.sun.com/migi/entry/opensolaris_howto_install_sun_studio)\n",
      "and [build matplotlib on solaris\n",
      "10](http://blogs.sun.com/yongsun/entry/build_matplotlib_0_98_3) might\n",
      "give some hints.\n",
      "\n",
      "JDH said:"
     ]
    },
    {
     "cell_type": "markdown",
     "metadata": {},
     "source": [
      "> Hi Erik -- if you succeed, then we'll have convincing proof that\n",
      "> compiling mpl on solaris is easier than giving up the sauce.\n",
      "\n",
      "\n",
      "Well, it has turned out to be easier than giving up the sauce (at least\n",
      "for me), but only by a whisker.  In the end, the fix is incredibly simple\n",
      "(if you consider recompiling python and manually adjusting the\n",
      "auto-produced pyconfig.h incredibly simple, anyway).  After two solid days\n",
      "of commenting this and that out, recompiling everything and its mother 76\n",
      "different ways from Sunday, poring over a legion of Solaris sys includes,\n",
      "slaughtering a few spotlessly white lambs and one pure black sheep,\n",
      "wrapping the bones and tendons and viscera in a double layer of fat and\n",
      "burning the offering to Delphic Apollo, I found the answer:\n",
      "\n",
      " 1 download Python 2.4.2\n",
      "\n",
      " 2 after extracting it and running ./configure, edit the generated pyconfig.h as follows:\n",
      "   \n",
      "     i) if _XOPEN_SOURCE is defined to be 600 (i.e., if the line \"#define _XOPEN_SOURCE 600\" appears in the file), redefine it to 500\n",
      "\n",
      "     ii) if _XOPEN_SOURCE_EXTENDED is defined at all (i.e. if the line \"#define _XOPEN_SOURCE_EXTENDED 1\" appears in the file), comment out its definition\n",
      "\n",
      " 3 make && make install\n",
      "\n",
      "The problem was with Solaris's support for the X/Open standards.  To make\n",
      "a long story short, you can use Open Group Technical Standard, Issue 6\n",
      "(XPG6/UNIX 03/SUSv3) (_XOPEN_SOURCE == 600) if and only if you are using\n",
      "an ISO C99 compiler.  If you use X/Open CAE Specification, Issue 5\n",
      "(XPG5/UNIX 98/SUSv2) (_XOPEN_SOURCE == 500), you don't have to use an ISO\n",
      "C99 compiler.  For full details, see the Solaris header file\n",
      "/usr/include/sys/feature_tests.h.\n",
      "\n",
      "This is why muhpubuh (AKA matplotlib---long story) compiles\n",
      "on Solaris 10 if you have the big bucks and can afford Sun's OpenStudio 10\n",
      "compiler.  gcc does not have full C99 support yet.  In particular, its\n",
      "lack of support for the wide character library makes the build go\n",
      "bust.  (See, e.g., http://gcc.gnu.org/c99status.html.)\n",
      "\n",
      "More helpful links on the wchar problem with Python.h and Solaris :\n",
      "\n",
      " * http://lists.schmorp.de/pipermail/rxvt-unicode/2005q2/000092.html\n",
      "\n",
      " * http://bugs.opensolaris.org/bugdatabase/view_bug.do?bug_id=6395191\n",
      "\n",
      " * http://mail.python.org/pipermail/patches/2005-June/017820.html\n",
      "\n",
      " * http://mail.python.org/pipermail/python-bugs-list/2005-November/030900.html\n"
     ]
    }
   ],
   "metadata": {}
  }
 ]
}