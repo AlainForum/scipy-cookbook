{
 "metadata": {
  "signature": "sha256:567939dacda2c132e22ee9cf9e1f22399fde38cca3ef322c5205ba7f984efe47"
 },
 "nbformat": 3,
 "nbformat_minor": 0,
 "worksheets": [
  {
   "cells": [
    {
     "cell_type": "markdown",
     "metadata": {},
     "source": [
      "# hdf5 in Matlab\n",
      "\n",
      "Python can save rich hierarchical datasets in hdf5 format. Matlab can read hdf5, but the api is so heavy it is almost unusable. Here are some matlab scripts (written by Ga\u00ebl Varoquaux) to load and save data in hdf5 format under Matlab with the same signature as the standard matlab load/save function.\n",
      "\n",
      "[hdf5matlab.zip](files/attachments/hdf5_in_Matlab/hdf5matlab.zip)\n",
      "\n",
      "These Matlab scripts cannot load every type allowed in hdf5. Feel free to provide python scripts to use pytables to implement simple load/save functions compatible with this hdf5 subset.\n",
      "\n",
      "One notice: these script use the \"Workspace\" namespace to store some variables, they will pollute your workspace when saving data from Matlab. Nothing that I find unacceptable.\n",
      "\n",
      "## Another loader script\n",
      "\n",
      "Here is a second HDF5 loader script, which loads (optionally partial) data from a HDF5 file to a Matlab structure\n",
      "\n",
      "[h5load.m](files/attachments/hdf5_in_Matlab/h5load.m)\n",
      "\n",
      "It can deal with more varied HDF5 datasets than the Matlab high-level functions (at least R2008a hdf5info fails with chunked compressed datasets), via using only the low-level HDF5 API.\n",
      "\n",
      "The script also recognizes complex numbers in the Pytables format, and permutes array dimensions to match the logical order in the file (ie. to match Python. The builtin Matlab functions by default return data in the opposite order, so the first dimension in Python would be the last in Matlab).\n"
     ]
    }
   ],
   "metadata": {}
  }
 ]
}