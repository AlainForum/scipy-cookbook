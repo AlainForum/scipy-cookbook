{
 "metadata": {
  "signature": "sha256:b3e89c5bd13c7c000c20e52e8273658b8af8faf447363564e40632bad9cd1ffe"
 },
 "nbformat": 3,
 "nbformat_minor": 0,
 "worksheets": [
  {
   "cells": [
    {
     "cell_type": "markdown",
     "metadata": {},
     "source": [
      "Histograms\n",
      "======================================================================\n",
      "\n",
      "Here is an example for creating a 2D histogram with variable bin size\n",
      "and displaying it."
     ]
    },
    {
     "cell_type": "code",
     "collapsed": false,
     "input": [
      "#!/usr/bin/python\n",
      "import numpy as np\n",
      "import matplotlib as ml\n",
      "import matplotlib.pyplot as plt\n",
      "\n",
      "\n",
      "# First we define the bin edges\n",
      "xedges = [0, 1, 1.5, 3, 5]\n",
      "yedges = [0, 2, 3, 4, 6]\n",
      "\n",
      "# Next we create a histogram H with random bin content\n",
      "x = np.random.normal(3, 1, 100)\n",
      "y = np.random.normal(1, 1, 100)\n",
      "H, xedges, yedges = np.histogram2d(y, x, bins=(xedges, yedges))\n",
      "\n",
      "# Or we fill the histogram H with a determined bin content\n",
      "H = np.ones((4, 4)).cumsum().reshape(4, 4)\n",
      "print H[::-1]  # This shows the bin content in the order as plotted\n",
      "\n",
      "ml.rcParams['image.cmap'] = 'gist_heat'\n",
      "\n",
      "\n",
      "fig = plt.figure(figsize=(6, 3.2))\n",
      "\n",
      "# pcolormesh is useful for displaying exact bin edges\n",
      "ax = fig.add_subplot(131)\n",
      "ax.set_title('pcolormesh:\\nexact bin edges')\n",
      "X, Y = np.meshgrid(xedges, yedges)\n",
      "plt.pcolormesh(X, Y, H)\n",
      "ax.set_aspect('equal')\n",
      "\n",
      "\n",
      "# NonUniformImage can be used for interpolation\n",
      "ax = fig.add_subplot(132)\n",
      "ax.set_title('NonUniformImage:\\ninterpolated')\n",
      "im = ml.image.NonUniformImage(ax, interpolation='bilinear')\n",
      "xcenters = xedges[:-1] + 0.5 * (xedges[1:] - xedges[:-1])\n",
      "ycenters = yedges[:-1] + 0.5 * (yedges[1:] - yedges[:-1])\n",
      "im.set_data(xcenters, ycenters, H)\n",
      "ax.images.append(im)\n",
      "ax.set_xlim(xedges[0], xedges[-1])\n",
      "ax.set_ylim(yedges[0], yedges[-1])\n",
      "ax.set_aspect('equal')\n",
      "\n",
      "# Imshow is useful for a simple equidistant representation of bin content\n",
      "ax = fig.add_subplot(133)\n",
      "ax.set_title('imshow:\\nequitdistant')\n",
      "im = plt.imshow(H, interpolation='nearest', origin='low',\n",
      "                extent=[xedges[0], xedges[-1], yedges[0], yedges[-1]])\n",
      "\n",
      "\n",
      "# Finally we add a color bar\n",
      "cax = fig.add_axes([0.12, 0.1, 0.78, 0.4])\n",
      "cax.get_xaxis().set_visible(False)\n",
      "cax.get_yaxis().set_visible(False)\n",
      "cax.patch.set_alpha(0)\n",
      "cax.set_frame_on(False)\n",
      "plt.colorbar(orientation='horizontal', ax=cax)\n",
      "plt.tight_layout()\n",
      "plt.show()"
     ],
     "language": "python",
     "metadata": {},
     "outputs": [
      {
       "output_type": "stream",
       "stream": "stdout",
       "text": [
        "[[ 13.  14.  15.  16.]\n",
        " [  9.  10.  11.  12.]\n",
        " [  5.   6.   7.   8.]\n",
        " [  1.   2.   3.   4.]]\n"
       ]
      },
      {
       "metadata": {},
       "output_type": "display_data",
       "png": "[encoded data removed]",
       "text": [
        "<matplotlib.figure.Figure at 0x7fe551ab4310>"
       ]
      }
     ],
     "prompt_number": 2
    }
   ],
   "metadata": {}
  }
 ]
}