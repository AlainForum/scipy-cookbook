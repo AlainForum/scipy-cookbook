{
 "metadata": {
  "signature": "sha256:a6392fdd52819a32188f6c671958a91df2239d78df53c3abca6e2dc1e35f3f9b"
 },
 "nbformat": 3,
 "nbformat_minor": 0,
 "worksheets": [
  {
   "cells": [
    {
     "cell_type": "markdown",
     "metadata": {},
     "source": [
      "Function intersections\n",
      "======================================================================\n",
      "\n",
      "Find the points at which two given functions intersect\n",
      "------------------------------------------------------\n",
      "\n",
      "Consider the example of finding the intersection of a polynomial and a\n",
      "line:"
     ]
    },
    {
     "cell_type": "markdown",
     "metadata": {},
     "source": [
      "$y_1=x_1^2$\n",
      "\n",
      "$y_2=x_2+1$"
     ]
    },
    {
     "cell_type": "code",
     "collapsed": false,
     "input": [
      "from scipy.optimize import fsolve\n",
      "\n",
      "import numpy as np\n",
      "\n",
      "def f(xy):\n",
      "   x, y = xy\n",
      "   z = np.array([y - x**2, y - x - 1.0])\n",
      "   return z\n",
      "\n",
      "fsolve(f, [1.0, 2.0])"
     ],
     "language": "python",
     "metadata": {},
     "outputs": [
      {
       "metadata": {},
       "output_type": "pyout",
       "prompt_number": 2,
       "text": [
        "array([ 1.61803399,  2.61803399])"
       ]
      }
     ],
     "prompt_number": 2
    }
   ],
   "metadata": {}
  }
 ]
}