{
 "metadata": {
  "signature": "sha256:74e5b807ca70ad0f283f780b03b322532b79ce274292b2b3dc44c1568d6888a9"
 },
 "nbformat": 3,
 "nbformat_minor": 0,
 "worksheets": [
  {
   "cells": [
    {
     "cell_type": "markdown",
     "metadata": {},
     "source": [
      "Matplotlib: shaded regions\n",
      "======================================================================\n",
      "\n",
      "Use the fill function to make shaded regions of any color tint. Here is\n",
      "an example."
     ]
    },
    {
     "cell_type": "code",
     "collapsed": false,
     "input": [
      "from pylab import *\n",
      "\n",
      "x = arange(10)\n",
      "y = x\n",
      "\n",
      "# Plot junk and then a filled region\n",
      "plot(x, y)\n",
      "\n",
      "# Make a blue box that is somewhat see-through\n",
      "# and has a red border. \n",
      "# WARNING: alpha doesn't work in postscript output.... \n",
      "fill([3,4,4,3], [2,2,4,4], 'b', alpha=0.2, edgecolor='r')"
     ],
     "language": "python",
     "metadata": {},
     "outputs": [
      {
       "metadata": {},
       "output_type": "pyout",
       "prompt_number": 1,
       "text": [
        "[<matplotlib.patches.Polygon at 0x7f7a19aac890>]"
       ]
      },
      {
       "metadata": {},
       "output_type": "display_data",
       "png": "[encoded data removed]",
       "text": [
        "<matplotlib.figure.Figure at 0x7f7a19aaccd0>"
       ]
      }
     ],
     "prompt_number": 1
    }
   ],
   "metadata": {}
  }
 ]
}